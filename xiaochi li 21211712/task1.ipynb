{
 "cells": [
  {
   "cell_type": "markdown",
   "id": "ad727983-00a6-4fab-bbd2-0bf3690da9ea",
   "metadata": {},
   "source": [
    "# Task1\n",
    "xiaochi li\n",
    "21211712\n",
    "\n",
    "api : WHO Global Health Observatory"
   ]
  },
  {
   "cell_type": "code",
   "execution_count": 1,
   "id": "652017c8-595b-47b7-a429-7d079dcaba7c",
   "metadata": {},
   "outputs": [],
   "source": [
    "import json, requests, urllib\n",
    "from pathlib import Path\n",
    "from datetime import datetime\n",
    "import pandas as pd\n",
    "import matplotlib\n",
    "import matplotlib.pyplot as plt\n",
    "%matplotlib inline"
   ]
  },
  {
   "cell_type": "markdown",
   "id": "3b4565be-5e04-456f-b5d4-b1e9294a129f",
   "metadata": {
    "tags": []
   },
   "source": [
    "## Data Collection\n",
    "Create directory for raw data storage, if it does not already exist:"
   ]
  },
  {
   "cell_type": "code",
   "execution_count": 2,
   "id": "1a2cbbc1-0c1e-48ac-ba33-c53878c4ca67",
   "metadata": {},
   "outputs": [],
   "source": [
    "dir_raw = Path(\"WHO\")\n",
    "dir_raw.mkdir(parents=True, exist_ok=True)"
   ]
  },
  {
   "cell_type": "markdown",
   "id": "6937426f-cd9e-41f0-a17a-add08cc2c540",
   "metadata": {},
   "source": [
    "Settings for data collection"
   ]
  },
  {
   "cell_type": "code",
   "execution_count": 3,
   "id": "42782fd3-3382-4715-8203-7606b91f83f7",
   "metadata": {},
   "outputs": [],
   "source": [
    "#The country code I want to analise\n",
    "country_codes = [\"USA\",\"SWZ\",\"CHN\",\"IRL\",\"IND\",\"CHE\",\"RUS\",\"AFG\"]\n",
    "#The indicator_code used to find specific data\n",
    "indicator_codes = [\"NCD_BMI_18A\",\"NCD_BMI_30A\",\"BP_04\",\"NCD_GLUC_03\" , \"NCD_BMI_PLUS2C\", \"NCD_BMI_MINUS2C\"]#,\"WHOSIS_000003\",\"NCD_BMI_MINUS2C\",\"NCD_BMI_PLUS1C\",\"NCD_BMI_PLUS2C\"]"
   ]
  },
  {
   "cell_type": "markdown",
   "id": "8010406a-3a7e-4041-86a1-f9e36c3ff203",
   "metadata": {},
   "source": [
    "If want to change countries or indicators, just add these list and the same list in task2"
   ]
  },
  {
   "cell_type": "markdown",
   "id": "c7dc90b3-caf0-45a5-aad9-ebe72e9d4237",
   "metadata": {},
   "source": [
    "get data by url"
   ]
  },
  {
   "cell_type": "code",
   "execution_count": 4,
   "id": "b97491d2-c054-4132-bf30-44af8bbb06c6",
   "metadata": {},
   "outputs": [],
   "source": [
    "def fetch(url): \n",
    "    response = requests.get(url)\n",
    "    jdata = response.text\n",
    "    return json.loads(jdata)"
   ]
  },
  {
   "cell_type": "markdown",
   "id": "2759fe52-4806-4e8f-9d60-44d8cfcb1d1d",
   "metadata": {},
   "source": [
    "USing indicator_code and country_code to find data.\n",
    "\n",
    "For example if want to get Ireland data of Raised blood pressure, use the country code IRL and indicator code BP_04.\n",
    "\n",
    "And the url looks like \"https://ghoapi.azureedge.net/api/BP_04?$filter=(SpatialDimType eq 'country' and SpatialDim eq 'IRL')\""
   ]
  },
  {
   "cell_type": "code",
   "execution_count": 5,
   "id": "6d072ada-45cb-4474-b3b3-6ced3a164732",
   "metadata": {},
   "outputs": [],
   "source": [
    "def get_data(indicator_code,country_code):\n",
    "    data = fetch(\"https://ghoapi.azureedge.net/api/\"+indicator_code+\n",
    "                 \"?$filter=(SpatialDimType eq 'country' and SpatialDim eq '\"+ country_code +\"')\")\n",
    "    return data[\"value\"]"
   ]
  },
  {
   "cell_type": "markdown",
   "id": "29e9d4aa-e3b1-4b11-a3ba-a4d9fd331927",
   "metadata": {},
   "source": [
    "Different data have different feature in the WHO api. In order to obtain data in a uniform format, I trim the data.\n",
    "\n",
    "For example, in indicator “NCD_BMI_MINUS2C”, each year has three data,which are the age group(5-9),age group(10-19) and age group(5-19). In this example, I keep the age group(5-19) and drop other data to make each year has one value."
   ]
  },
  {
   "cell_type": "code",
   "execution_count": 6,
   "id": "0e09980d-7dd2-4011-b253-1a1b0d1b593b",
   "metadata": {},
   "outputs": [],
   "source": [
    "def classifie_data(data):\n",
    "    data_classified = []\n",
    "    for i in data:\n",
    "        if i[\"Dim1Type\"] == None:\n",
    "            data_classified.append(i)\n",
    "        if i[\"Dim1Type\"] == \"SEX\" and i['Dim1'] == 'BTSX' and i['Dim2Type'] == None:\n",
    "            data_classified.append(i)\n",
    "        elif i['Dim2Type'] == 'AGEGROUP':\n",
    "            if i[\"Dim1Type\"] == \"SEX\" and i['Dim1'] == 'BTSX' and (i['Dim2'] == 'YEARS05-19'or'YEARS18-PLUS'):\n",
    "                data_classified.append(i)\n",
    "    return data_classified "
   ]
  },
  {
   "cell_type": "markdown",
   "id": "eeaf897a-cc9d-4da1-93ff-dc8365899226",
   "metadata": {},
   "source": [
    "Saving data by country_code and indicator_code"
   ]
  },
  {
   "cell_type": "code",
   "execution_count": 7,
   "id": "4b492554-eaf5-4eda-9909-caedc0f71ad5",
   "metadata": {},
   "outputs": [],
   "source": [
    "def save_data(data,country_code,indicator_code):\n",
    "    #saving data like \"country_code-indicator_code.json\"\n",
    "    fname = \"%s-%s.json\" % (country_code,indicator_code)\n",
    "    out_path = dir_raw / fname\n",
    "    print(\"Writing data to %s\" % out_path)\n",
    "    fout = open(out_path, \"w\")\n",
    "    json.dump(data, fout, indent=4, sort_keys=True)\n",
    "    fout.close()"
   ]
  },
  {
   "cell_type": "code",
   "execution_count": 8,
   "id": "b6e181d6-f72d-472f-b81a-ccf7f81efc42",
   "metadata": {},
   "outputs": [
    {
     "name": "stdout",
     "output_type": "stream",
     "text": [
      "Writing data to WHO/USA-NCD_BMI_18A.json\n",
      "Writing data to WHO/USA-NCD_BMI_30A.json\n",
      "Writing data to WHO/USA-BP_04.json\n",
      "Writing data to WHO/USA-NCD_GLUC_03.json\n",
      "Writing data to WHO/USA-NCD_BMI_PLUS2C.json\n",
      "Writing data to WHO/USA-NCD_BMI_MINUS2C.json\n",
      "Writing data to WHO/SWZ-NCD_BMI_18A.json\n",
      "Writing data to WHO/SWZ-NCD_BMI_30A.json\n",
      "Writing data to WHO/SWZ-BP_04.json\n",
      "Writing data to WHO/SWZ-NCD_GLUC_03.json\n",
      "Writing data to WHO/SWZ-NCD_BMI_PLUS2C.json\n",
      "Writing data to WHO/SWZ-NCD_BMI_MINUS2C.json\n",
      "Writing data to WHO/CHN-NCD_BMI_18A.json\n",
      "Writing data to WHO/CHN-NCD_BMI_30A.json\n",
      "Writing data to WHO/CHN-BP_04.json\n",
      "Writing data to WHO/CHN-NCD_GLUC_03.json\n",
      "Writing data to WHO/CHN-NCD_BMI_PLUS2C.json\n",
      "Writing data to WHO/CHN-NCD_BMI_MINUS2C.json\n",
      "Writing data to WHO/IRL-NCD_BMI_18A.json\n",
      "Writing data to WHO/IRL-NCD_BMI_30A.json\n",
      "Writing data to WHO/IRL-BP_04.json\n",
      "Writing data to WHO/IRL-NCD_GLUC_03.json\n",
      "Writing data to WHO/IRL-NCD_BMI_PLUS2C.json\n",
      "Writing data to WHO/IRL-NCD_BMI_MINUS2C.json\n",
      "Writing data to WHO/IND-NCD_BMI_18A.json\n",
      "Writing data to WHO/IND-NCD_BMI_30A.json\n",
      "Writing data to WHO/IND-BP_04.json\n",
      "Writing data to WHO/IND-NCD_GLUC_03.json\n",
      "Writing data to WHO/IND-NCD_BMI_PLUS2C.json\n",
      "Writing data to WHO/IND-NCD_BMI_MINUS2C.json\n",
      "Writing data to WHO/CHE-NCD_BMI_18A.json\n",
      "Writing data to WHO/CHE-NCD_BMI_30A.json\n",
      "Writing data to WHO/CHE-BP_04.json\n",
      "Writing data to WHO/CHE-NCD_GLUC_03.json\n",
      "Writing data to WHO/CHE-NCD_BMI_PLUS2C.json\n",
      "Writing data to WHO/CHE-NCD_BMI_MINUS2C.json\n",
      "Writing data to WHO/RUS-NCD_BMI_18A.json\n",
      "Writing data to WHO/RUS-NCD_BMI_30A.json\n",
      "Writing data to WHO/RUS-BP_04.json\n",
      "Writing data to WHO/RUS-NCD_GLUC_03.json\n",
      "Writing data to WHO/RUS-NCD_BMI_PLUS2C.json\n",
      "Writing data to WHO/RUS-NCD_BMI_MINUS2C.json\n",
      "Writing data to WHO/AFG-NCD_BMI_18A.json\n",
      "Writing data to WHO/AFG-NCD_BMI_30A.json\n",
      "Writing data to WHO/AFG-BP_04.json\n",
      "Writing data to WHO/AFG-NCD_GLUC_03.json\n",
      "Writing data to WHO/AFG-NCD_BMI_PLUS2C.json\n",
      "Writing data to WHO/AFG-NCD_BMI_MINUS2C.json\n"
     ]
    }
   ],
   "source": [
    "for country_code in country_codes:\n",
    "    for indicator_code in indicator_codes:\n",
    "        #get data\n",
    "        data = get_data(indicator_code,country_code)\n",
    "        #Unified data format\n",
    "        data = classifie_data(data)\n",
    "        #save data\n",
    "        save_data(data, country_code, indicator_code)"
   ]
  },
  {
   "cell_type": "code",
   "execution_count": null,
   "id": "e01fe27b-cc60-4ab6-9c4c-36498b62d3b8",
   "metadata": {},
   "outputs": [],
   "source": []
  }
 ],
 "metadata": {
  "kernelspec": {
   "display_name": "Python 3 (ipykernel)",
   "language": "python",
   "name": "python3"
  },
  "language_info": {
   "codemirror_mode": {
    "name": "ipython",
    "version": 3
   },
   "file_extension": ".py",
   "mimetype": "text/x-python",
   "name": "python",
   "nbconvert_exporter": "python",
   "pygments_lexer": "ipython3",
   "version": "3.9.2"
  }
 },
 "nbformat": 4,
 "nbformat_minor": 5
}
